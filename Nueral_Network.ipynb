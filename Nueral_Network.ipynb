{
 "cells": [
  {
   "cell_type": "markdown",
   "metadata": {},
   "source": [
    "# Building Nueral Network"
   ]
  },
  {
   "cell_type": "markdown",
   "metadata": {},
   "source": [
    "## Import Packages"
   ]
  },
  {
   "cell_type": "code",
   "execution_count": 1,
   "metadata": {},
   "outputs": [],
   "source": [
    "import numpy as np \n",
    "import pandas as pd\n",
    "from PIL import Image\n",
    "import matplotlib.pyplot as plt\n",
    "\n",
    "import tensorflow as tf\n",
    "from tensorflow import keras\n",
    "from sklearn.model_selection import train_test_split"
   ]
  },
  {
   "cell_type": "markdown",
   "metadata": {},
   "source": [
    "## Data Preperation"
   ]
  },
  {
   "cell_type": "code",
   "execution_count": 2,
   "metadata": {},
   "outputs": [],
   "source": [
    "channelMetaData = pd.read_csv('data/channel-metadata.csv')"
   ]
  },
  {
   "cell_type": "code",
   "execution_count": 3,
   "metadata": {},
   "outputs": [
    {
     "data": {
      "text/html": [
       "<div>\n",
       "<style scoped>\n",
       "    .dataframe tbody tr th:only-of-type {\n",
       "        vertical-align: middle;\n",
       "    }\n",
       "\n",
       "    .dataframe tbody tr th {\n",
       "        vertical-align: top;\n",
       "    }\n",
       "\n",
       "    .dataframe thead th {\n",
       "        text-align: right;\n",
       "    }\n",
       "</style>\n",
       "<table border=\"1\" class=\"dataframe\">\n",
       "  <thead>\n",
       "    <tr style=\"text-align: right;\">\n",
       "      <th></th>\n",
       "      <th>ID</th>\n",
       "      <th>occupied</th>\n",
       "      <th>start_frequency</th>\n",
       "      <th>end_frequency</th>\n",
       "    </tr>\n",
       "  </thead>\n",
       "  <tbody>\n",
       "    <tr>\n",
       "      <td>0</td>\n",
       "      <td>2081</td>\n",
       "      <td>no</td>\n",
       "      <td>1000.0</td>\n",
       "      <td>1005.0</td>\n",
       "    </tr>\n",
       "    <tr>\n",
       "      <td>1</td>\n",
       "      <td>2082</td>\n",
       "      <td>no</td>\n",
       "      <td>1005.0</td>\n",
       "      <td>1010.0</td>\n",
       "    </tr>\n",
       "    <tr>\n",
       "      <td>2</td>\n",
       "      <td>2083</td>\n",
       "      <td>no</td>\n",
       "      <td>1010.0</td>\n",
       "      <td>1015.0</td>\n",
       "    </tr>\n",
       "    <tr>\n",
       "      <td>3</td>\n",
       "      <td>2084</td>\n",
       "      <td>no</td>\n",
       "      <td>1015.0</td>\n",
       "      <td>1020.0</td>\n",
       "    </tr>\n",
       "    <tr>\n",
       "      <td>4</td>\n",
       "      <td>4084</td>\n",
       "      <td>yes</td>\n",
       "      <td>1020.0</td>\n",
       "      <td>1030.0</td>\n",
       "    </tr>\n",
       "    <tr>\n",
       "      <td>...</td>\n",
       "      <td>...</td>\n",
       "      <td>...</td>\n",
       "      <td>...</td>\n",
       "      <td>...</td>\n",
       "    </tr>\n",
       "    <tr>\n",
       "      <td>72</td>\n",
       "      <td>2146</td>\n",
       "      <td>yes</td>\n",
       "      <td>1762.5</td>\n",
       "      <td>1768.0</td>\n",
       "    </tr>\n",
       "    <tr>\n",
       "      <td>73</td>\n",
       "      <td>2147</td>\n",
       "      <td>yes</td>\n",
       "      <td>1768.0</td>\n",
       "      <td>1773.5</td>\n",
       "    </tr>\n",
       "    <tr>\n",
       "      <td>74</td>\n",
       "      <td>2148</td>\n",
       "      <td>yes</td>\n",
       "      <td>1773.5</td>\n",
       "      <td>1779.0</td>\n",
       "    </tr>\n",
       "    <tr>\n",
       "      <td>75</td>\n",
       "      <td>2149</td>\n",
       "      <td>no</td>\n",
       "      <td>1779.0</td>\n",
       "      <td>1784.5</td>\n",
       "    </tr>\n",
       "    <tr>\n",
       "      <td>76</td>\n",
       "      <td>2150</td>\n",
       "      <td>no</td>\n",
       "      <td>1784.5</td>\n",
       "      <td>1790.0</td>\n",
       "    </tr>\n",
       "  </tbody>\n",
       "</table>\n",
       "<p>77 rows × 4 columns</p>\n",
       "</div>"
      ],
      "text/plain": [
       "      ID occupied  start_frequency  end_frequency\n",
       "0   2081       no           1000.0         1005.0\n",
       "1   2082       no           1005.0         1010.0\n",
       "2   2083       no           1010.0         1015.0\n",
       "3   2084       no           1015.0         1020.0\n",
       "4   4084      yes           1020.0         1030.0\n",
       "..   ...      ...              ...            ...\n",
       "72  2146      yes           1762.5         1768.0\n",
       "73  2147      yes           1768.0         1773.5\n",
       "74  2148      yes           1773.5         1779.0\n",
       "75  2149       no           1779.0         1784.5\n",
       "76  2150       no           1784.5         1790.0\n",
       "\n",
       "[77 rows x 4 columns]"
      ]
     },
     "execution_count": 3,
     "metadata": {},
     "output_type": "execute_result"
    }
   ],
   "source": [
    "channelMetaData"
   ]
  },
  {
   "cell_type": "code",
   "execution_count": 4,
   "metadata": {},
   "outputs": [],
   "source": [
    "start_freq = np.array((channelMetaData[\"start_frequency\"]-1000)*10).astype(int)\n",
    "end_freq = np.array((channelMetaData[\"end_frequency\"]-1000)*10).astype(int)\n",
    "occupied = np.array(channelMetaData[\"occupied\"])\n",
    "endOccupiedDF = pd.DataFrame({'startFreq':start_freq, 'endFreq':end_freq, 'occupied':occupied})"
   ]
  },
  {
   "cell_type": "code",
   "execution_count": 5,
   "metadata": {
    "scrolled": true
   },
   "outputs": [
    {
     "data": {
      "text/html": [
       "<div>\n",
       "<style scoped>\n",
       "    .dataframe tbody tr th:only-of-type {\n",
       "        vertical-align: middle;\n",
       "    }\n",
       "\n",
       "    .dataframe tbody tr th {\n",
       "        vertical-align: top;\n",
       "    }\n",
       "\n",
       "    .dataframe thead th {\n",
       "        text-align: right;\n",
       "    }\n",
       "</style>\n",
       "<table border=\"1\" class=\"dataframe\">\n",
       "  <thead>\n",
       "    <tr style=\"text-align: right;\">\n",
       "      <th></th>\n",
       "      <th>startFreq</th>\n",
       "      <th>endFreq</th>\n",
       "      <th>occupied</th>\n",
       "    </tr>\n",
       "  </thead>\n",
       "  <tbody>\n",
       "    <tr>\n",
       "      <td>0</td>\n",
       "      <td>0</td>\n",
       "      <td>50</td>\n",
       "      <td>no</td>\n",
       "    </tr>\n",
       "    <tr>\n",
       "      <td>1</td>\n",
       "      <td>50</td>\n",
       "      <td>100</td>\n",
       "      <td>no</td>\n",
       "    </tr>\n",
       "    <tr>\n",
       "      <td>2</td>\n",
       "      <td>100</td>\n",
       "      <td>150</td>\n",
       "      <td>no</td>\n",
       "    </tr>\n",
       "    <tr>\n",
       "      <td>3</td>\n",
       "      <td>150</td>\n",
       "      <td>200</td>\n",
       "      <td>no</td>\n",
       "    </tr>\n",
       "    <tr>\n",
       "      <td>4</td>\n",
       "      <td>200</td>\n",
       "      <td>300</td>\n",
       "      <td>yes</td>\n",
       "    </tr>\n",
       "    <tr>\n",
       "      <td>...</td>\n",
       "      <td>...</td>\n",
       "      <td>...</td>\n",
       "      <td>...</td>\n",
       "    </tr>\n",
       "    <tr>\n",
       "      <td>72</td>\n",
       "      <td>7625</td>\n",
       "      <td>7680</td>\n",
       "      <td>yes</td>\n",
       "    </tr>\n",
       "    <tr>\n",
       "      <td>73</td>\n",
       "      <td>7680</td>\n",
       "      <td>7735</td>\n",
       "      <td>yes</td>\n",
       "    </tr>\n",
       "    <tr>\n",
       "      <td>74</td>\n",
       "      <td>7735</td>\n",
       "      <td>7790</td>\n",
       "      <td>yes</td>\n",
       "    </tr>\n",
       "    <tr>\n",
       "      <td>75</td>\n",
       "      <td>7790</td>\n",
       "      <td>7845</td>\n",
       "      <td>no</td>\n",
       "    </tr>\n",
       "    <tr>\n",
       "      <td>76</td>\n",
       "      <td>7845</td>\n",
       "      <td>7900</td>\n",
       "      <td>no</td>\n",
       "    </tr>\n",
       "  </tbody>\n",
       "</table>\n",
       "<p>77 rows × 3 columns</p>\n",
       "</div>"
      ],
      "text/plain": [
       "    startFreq  endFreq occupied\n",
       "0           0       50       no\n",
       "1          50      100       no\n",
       "2         100      150       no\n",
       "3         150      200       no\n",
       "4         200      300      yes\n",
       "..        ...      ...      ...\n",
       "72       7625     7680      yes\n",
       "73       7680     7735      yes\n",
       "74       7735     7790      yes\n",
       "75       7790     7845       no\n",
       "76       7845     7900       no\n",
       "\n",
       "[77 rows x 3 columns]"
      ]
     },
     "execution_count": 5,
     "metadata": {},
     "output_type": "execute_result"
    }
   ],
   "source": [
    "endOccupiedDF"
   ]
  },
  {
   "cell_type": "code",
   "execution_count": 6,
   "metadata": {},
   "outputs": [],
   "source": [
    "freqData = Image.open('data/spectrogram.tif')\n",
    "freqArr = np.array(freqData)\n",
    "truncFreqArr = freqArr[:2000,:]"
   ]
  },
  {
   "cell_type": "code",
   "execution_count": 7,
   "metadata": {},
   "outputs": [],
   "source": [
    "occupiedArr = np.array([])\n",
    "for k in range(truncFreqArr.shape[1]):\n",
    "    for index, row in endOccupiedDF.iterrows():\n",
    "        if k >= row.startFreq and k<row.endFreq:\n",
    "            if row.occupied=='yes':\n",
    "                occupiedArr = np.append(occupiedArr, [1])\n",
    "            else:\n",
    "                occupiedArr = np.append(occupiedArr, [0])"
   ]
  },
  {
   "cell_type": "code",
   "execution_count": 8,
   "metadata": {},
   "outputs": [],
   "source": [
    "newFreqArr = np.array(np.zeros(truncFreqArr.shape[0]).reshape(truncFreqArr.shape[0],1))\n",
    "for index, row in endOccupiedDF.iterrows():\n",
    "    tempArr = truncFreqArr[:,row.startFreq:row.endFreq]\n",
    "    newFreqArr = np.hstack((newFreqArr, tempArr))\n",
    "newFreqArr = newFreqArr[:,1:]"
   ]
  },
  {
   "cell_type": "code",
   "execution_count": 9,
   "metadata": {},
   "outputs": [],
   "source": [
    "original_shape = newFreqArr.shape\n",
    "newFreqArr2 = np.ravel(newFreqArr, order='F')\n",
    "newFreqArr2 = newFreqArr2.reshape(original_shape[1]*10,200)"
   ]
  },
  {
   "cell_type": "code",
   "execution_count": 10,
   "metadata": {},
   "outputs": [],
   "source": [
    "occupiedArr2 = occupiedArr\n",
    "for i in range(9):\n",
    "    occupiedArr2 = np.vstack((occupiedArr2, occupiedArr))\n",
    "occupiedArr2 = np.ravel(occupiedArr2, order='F').reshape(75700,1)"
   ]
  },
  {
   "cell_type": "code",
   "execution_count": 11,
   "metadata": {},
   "outputs": [],
   "source": [
    "X = newFreqArr2\n",
    "y = occupiedArr2"
   ]
  },
  {
   "cell_type": "code",
   "execution_count": 12,
   "metadata": {},
   "outputs": [],
   "source": [
    "X_train, X_test, y_train, y_test = train_test_split(X, y, test_size=0.3, random_state=1)"
   ]
  },
  {
   "cell_type": "markdown",
   "metadata": {},
   "source": [
    "## Build Nueral Network"
   ]
  },
  {
   "cell_type": "code",
   "execution_count": 13,
   "metadata": {},
   "outputs": [],
   "source": [
    "model = keras.Sequential([\n",
    "    keras.layers.Dense(25, activation='relu', input_shape=(200,)),\n",
    "    keras.layers.Dense(2, activation='softmax')\n",
    "])"
   ]
  },
  {
   "cell_type": "code",
   "execution_count": 14,
   "metadata": {},
   "outputs": [],
   "source": [
    "model.compile(optimizer='adam',\n",
    "              loss='sparse_categorical_crossentropy',\n",
    "              metrics=['accuracy'])"
   ]
  },
  {
   "cell_type": "code",
   "execution_count": 15,
   "metadata": {
    "scrolled": true
   },
   "outputs": [
    {
     "name": "stdout",
     "output_type": "stream",
     "text": [
      "Train on 52990 samples\n",
      "Epoch 1/25\n",
      "52990/52990 [==============================] - 3s 54us/sample - loss: 3.4563 - accuracy: 0.5267\n",
      "Epoch 2/25\n",
      "52990/52990 [==============================] - 2s 47us/sample - loss: 1.8900 - accuracy: 0.5485\n",
      "Epoch 3/25\n",
      "52990/52990 [==============================] - 2s 42us/sample - loss: 1.3800 - accuracy: 0.5628\n",
      "Epoch 4/25\n",
      "52990/52990 [==============================] - 2s 38us/sample - loss: 0.9789 - accuracy: 0.5827\n",
      "Epoch 5/25\n",
      "52990/52990 [==============================] - 2s 39us/sample - loss: 0.7555 - accuracy: 0.6108\n",
      "Epoch 6/25\n",
      "52990/52990 [==============================] - 2s 39us/sample - loss: 0.6174 - accuracy: 0.6702\n",
      "Epoch 7/25\n",
      "52990/52990 [==============================] - 2s 41us/sample - loss: 0.5738 - accuracy: 0.7398\n",
      "Epoch 8/25\n",
      "52990/52990 [==============================] - 2s 40us/sample - loss: 0.5655 - accuracy: 0.7511\n",
      "Epoch 9/25\n",
      "52990/52990 [==============================] - 2s 40us/sample - loss: 0.5481 - accuracy: 0.7679\n",
      "Epoch 10/25\n",
      "52990/52990 [==============================] - 2s 41us/sample - loss: 0.5307 - accuracy: 0.7881\n",
      "Epoch 11/25\n",
      "52990/52990 [==============================] - 2s 40us/sample - loss: 0.5152 - accuracy: 0.7971\n",
      "Epoch 12/25\n",
      "52990/52990 [==============================] - 2s 40us/sample - loss: 0.4971 - accuracy: 0.8092\n",
      "Epoch 13/25\n",
      "52990/52990 [==============================] - 2s 40us/sample - loss: 0.4832 - accuracy: 0.8195\n",
      "Epoch 14/25\n",
      "52990/52990 [==============================] - 2s 40us/sample - loss: 0.4725 - accuracy: 0.8228\n",
      "Epoch 15/25\n",
      "52990/52990 [==============================] - 2s 40us/sample - loss: 0.4582 - accuracy: 0.8315\n",
      "Epoch 16/25\n",
      "52990/52990 [==============================] - 2s 40us/sample - loss: 0.4477 - accuracy: 0.8347\n",
      "Epoch 17/25\n",
      "52990/52990 [==============================] - 2s 40us/sample - loss: 0.4377 - accuracy: 0.8409\n",
      "Epoch 18/25\n",
      "52990/52990 [==============================] - 2s 40us/sample - loss: 0.4299 - accuracy: 0.8409\n",
      "Epoch 19/25\n",
      "52990/52990 [==============================] - 2s 40us/sample - loss: 0.4247 - accuracy: 0.8448\n",
      "Epoch 20/25\n",
      "52990/52990 [==============================] - 2s 40us/sample - loss: 0.4126 - accuracy: 0.8513\n",
      "Epoch 21/25\n",
      "52990/52990 [==============================] - 2s 40us/sample - loss: 0.4096 - accuracy: 0.8513\n",
      "Epoch 22/25\n",
      "52990/52990 [==============================] - 2s 41us/sample - loss: 0.3992 - accuracy: 0.8580\n",
      "Epoch 23/25\n",
      "52990/52990 [==============================] - 2s 42us/sample - loss: 0.4010 - accuracy: 0.8531s - loss: 0.4019 - \n",
      "Epoch 24/25\n",
      "52990/52990 [==============================] - 2s 44us/sample - loss: 0.3942 - accuracy: 0.8574\n",
      "Epoch 25/25\n",
      "52990/52990 [==============================] - 2s 43us/sample - loss: 0.3899 - accuracy: 0.8577\n"
     ]
    },
    {
     "data": {
      "text/plain": [
       "<tensorflow.python.keras.callbacks.History at 0x13e0f49e8>"
      ]
     },
     "execution_count": 15,
     "metadata": {},
     "output_type": "execute_result"
    }
   ],
   "source": [
    "model.fit(X_train, y_train, epochs=25)"
   ]
  },
  {
   "cell_type": "code",
   "execution_count": 16,
   "metadata": {},
   "outputs": [
    {
     "name": "stdout",
     "output_type": "stream",
     "text": [
      "22710/1 - 1s - loss: 0.4076 - accuracy: 0.8409\n",
      "\n",
      "Test accuracy: 0.8409071\n"
     ]
    }
   ],
   "source": [
    "test_loss, test_acc = model.evaluate(X_test,  y_test, verbose=2)\n",
    "\n",
    "print('\\nTest accuracy:', test_acc)"
   ]
  },
  {
   "cell_type": "markdown",
   "metadata": {},
   "source": [
    "## Evaluate Nueral Network"
   ]
  },
  {
   "cell_type": "code",
   "execution_count": 17,
   "metadata": {},
   "outputs": [],
   "source": [
    "predictions = model.predict(X_test)"
   ]
  },
  {
   "cell_type": "code",
   "execution_count": 18,
   "metadata": {},
   "outputs": [
    {
     "name": "stdout",
     "output_type": "stream",
     "text": [
      "\u001b[32m Correct Prediction\n",
      "\u001b[31m Incorrect Prediction \n",
      "\n",
      "\n",
      "\u001b[32m Pred: Empty\n",
      "\u001b[32m Pred: Empty\n",
      "\u001b[32m Pred: Empty\n",
      "\u001b[32m Pred: Empty\n",
      "\u001b[32m Pred: Occupied\n",
      "\u001b[32m Pred: Occupied\n",
      "\u001b[32m Pred: Empty\n",
      "\u001b[32m Pred: Occupied\n",
      "\u001b[32m Pred: Empty\n",
      "\u001b[32m Pred: Empty\n",
      "\u001b[32m Pred: Empty\n",
      "\u001b[31m Pred: Empty\n",
      "\u001b[31m Pred: Empty\n",
      "\u001b[31m Pred: Empty\n",
      "\u001b[32m Pred: Empty\n",
      "\u001b[32m Pred: Empty\n",
      "\u001b[31m Pred: Empty\n",
      "\u001b[32m Pred: Occupied\n",
      "\u001b[32m Pred: Occupied\n",
      "\u001b[32m Pred: Occupied\n",
      "\u001b[32m Pred: Empty\n",
      "\u001b[32m Pred: Occupied\n",
      "\u001b[32m Pred: Empty\n",
      "\u001b[32m Pred: Empty\n",
      "\u001b[32m Pred: Empty\n",
      "\u001b[32m Pred: Occupied\n",
      "\u001b[32m Pred: Empty\n",
      "\u001b[32m Pred: Empty\n",
      "\u001b[32m Pred: Empty\n",
      "\u001b[32m Pred: Empty\n",
      "\u001b[32m Pred: Empty\n",
      "\u001b[32m Pred: Empty\n",
      "\u001b[32m Pred: Empty\n",
      "\u001b[32m Pred: Empty\n",
      "\u001b[32m Pred: Occupied\n",
      "\u001b[32m Pred: Empty\n",
      "\u001b[32m Pred: Occupied\n",
      "\u001b[32m Pred: Empty\n",
      "\u001b[32m Pred: Occupied\n",
      "\u001b[32m Pred: Empty\n",
      "\u001b[32m Pred: Occupied\n",
      "\u001b[32m Pred: Empty\n",
      "\u001b[32m Pred: Occupied\n",
      "\u001b[32m Pred: Empty\n",
      "\u001b[32m Pred: Occupied\n",
      "\u001b[32m Pred: Occupied\n",
      "\u001b[32m Pred: Empty\n",
      "\u001b[32m Pred: Occupied\n",
      "\u001b[32m Pred: Empty\n",
      "\u001b[32m Pred: Empty\n"
     ]
    }
   ],
   "source": [
    "from colorama import Fore\n",
    "\n",
    "labels = [\"Empty\", \"Occupied\"]\n",
    "\n",
    "print(Fore.GREEN, \"Correct Prediction\")\n",
    "print(Fore.RED, \"Incorrect Prediction\", \"\\n\\n\")\n",
    "\n",
    "for i in range(50):\n",
    "    if int(np.argmax(predictions[i])) == int(y_test[i]):\n",
    "        print(Fore.GREEN, \"Pred:\", labels[int(np.argmax(predictions[i]))])\n",
    "    else:\n",
    "        print(Fore.RED, \"Pred:\", labels[int(np.argmax(predictions[i]))])"
   ]
  },
  {
   "cell_type": "code",
   "execution_count": null,
   "metadata": {},
   "outputs": [],
   "source": []
  }
 ],
 "metadata": {
  "kernelspec": {
   "display_name": "Python 3",
   "language": "python",
   "name": "python3"
  },
  "language_info": {
   "codemirror_mode": {
    "name": "ipython",
    "version": 3
   },
   "file_extension": ".py",
   "mimetype": "text/x-python",
   "name": "python",
   "nbconvert_exporter": "python",
   "pygments_lexer": "ipython3",
   "version": "3.6.5"
  }
 },
 "nbformat": 4,
 "nbformat_minor": 2
}
